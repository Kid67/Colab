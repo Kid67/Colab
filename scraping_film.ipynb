{
  "nbformat": 4,
  "nbformat_minor": 0,
  "metadata": {
    "colab": {
      "name": "scraping_film.ipynb",
      "provenance": [],
      "authorship_tag": "ABX9TyNJvA7rvyKKWh9PCPRYMesR",
      "include_colab_link": true
    },
    "kernelspec": {
      "name": "python3",
      "display_name": "Python 3"
    }
  },
  "cells": [
    {
      "cell_type": "markdown",
      "metadata": {
        "id": "view-in-github",
        "colab_type": "text"
      },
      "source": [
        "<a href=\"https://colab.research.google.com/github/Kid67/test/blob/master/scraping_film.ipynb\" target=\"_parent\"><img src=\"https://colab.research.google.com/assets/colab-badge.svg\" alt=\"Open In Colab\"/></a>"
      ]
    },
    {
      "cell_type": "markdown",
      "metadata": {
        "id": "SU4YQeOLXH7g",
        "colab_type": "text"
      },
      "source": [
        "Import des bibliotheques"
      ]
    },
    {
      "cell_type": "code",
      "metadata": {
        "id": "8W_wiiV-jv2g",
        "colab_type": "code",
        "colab": {
          "base_uri": "https://localhost:8080/",
          "height": 170
        },
        "outputId": "45755d7f-57f8-40c2-a263-84f845e4988b"
      },
      "source": [
        "pip install wget"
      ],
      "execution_count": null,
      "outputs": [
        {
          "output_type": "stream",
          "text": [
            "Collecting wget\n",
            "  Downloading https://files.pythonhosted.org/packages/47/6a/62e288da7bcda82b935ff0c6cfe542970f04e29c756b0e147251b2fb251f/wget-3.2.zip\n",
            "Building wheels for collected packages: wget\n",
            "  Building wheel for wget (setup.py) ... \u001b[?25l\u001b[?25hdone\n",
            "  Created wheel for wget: filename=wget-3.2-cp36-none-any.whl size=9682 sha256=f61094ecc89e289f4706a1d6921ed9887930f2d8709ca49e5abef5f69771cf28\n",
            "  Stored in directory: /root/.cache/pip/wheels/40/15/30/7d8f7cea2902b4db79e3fea550d7d7b85ecb27ef992b618f3f\n",
            "Successfully built wget\n",
            "Installing collected packages: wget\n",
            "Successfully installed wget-3.2\n"
          ],
          "name": "stdout"
        }
      ]
    },
    {
      "cell_type": "code",
      "metadata": {
        "id": "JdYLlJvIW6oM",
        "colab_type": "code",
        "colab": {}
      },
      "source": [
        "import requests\n",
        "from bs4 import BeautifulSoup as bs\n",
        "import pandas as pd\n",
        "from pandas import DataFrame\n",
        "import csv\n",
        "import os\n",
        "import wget"
      ],
      "execution_count": null,
      "outputs": []
    },
    {
      "cell_type": "code",
      "metadata": {
        "id": "I_7IxjtgXxwy",
        "colab_type": "code",
        "colab": {
          "base_uri": "https://localhost:8080/",
          "height": 51
        },
        "outputId": "7656d267-0472-42b8-9ebd-00a2d8100765"
      },
      "source": [
        "colonnes = [\"titre\", \"liens_video\", \"liens_image\", \"duration\"]\n",
        "dico = {i: \"\" for i in colonnes}\n",
        "\n",
        "tableau = DataFrame(columns=colonnes)\n",
        "tableau.to_csv(\"C:\\\\Users\\\\Kid\\\\Desktop\\\\Scraping\\\\dataset\\\\liens.csv\", index=False)\n",
        "\n",
        "url = \"https://wiflix.co/film-en-streaming/action/\"\n",
        "dataset_images = \"C:\\\\Users\\\\Kid\\\\Desktop\\\\Scraping\\\\dataset\\\\images\\\\\"\n",
        "\n",
        "if not os.path.exists(dataset_images):\n",
        "            os.makedirs(dataset_images)\n",
        "\n",
        "with open(\"C:\\\\Users\\\\Kid\\\\Desktop\\\\Scraping\\\\dataset\\\\liens.csv\", \"a\", encoding=\"utf-8\") as csvfile:\n",
        "    writer = csv.DictWriter(csvfile, fieldnames=colonnes, lineterminator=\"\\n\")\n",
        "    for numeroPage in range(1,3):\n",
        "        print(numeroPage)\n",
        "        req = requests.get(url + str(numeroPage))\n",
        "        contenu = req.content\n",
        "        soup = bs(contenu, \"html.parser\")\n",
        "\n",
        "        liens = soup.findAll(\"div\", class_=\"mov clearfix\")\n",
        "        \n",
        "        for lien in liens:\n",
        "            dico[\"titre\"] = lien[\"title\"]\n",
        "            dico[\"liens_video\"] = lien[\"href\"]\n",
        "            dico[\"liens_image\"] = \"https:\" + lien.find(\"img\").get('src')\n",
        "            dico[\"duration\"] = lien.find(class_='duration').text\n",
        "            #print(lien[\"title\"])\n",
        "            #print(lien[\"href\"])\n",
        "            #print(\"https:\" + lien.find(\"img\").get('src'))\n",
        "            #print(lien.find(class_='duration').text)\n",
        "            wget.download(dico[\"liens_image\"], dataset_images + dico[\"titre\"] + \".jpeg\")# telecharge les thumb\n",
        "            writer.writerow(dico)\n",
        "\n",
        "\n",
        "  "
      ],
      "execution_count": null,
      "outputs": [
        {
          "output_type": "stream",
          "text": [
            "1\n",
            "2\n"
          ],
          "name": "stdout"
        }
      ]
    }
  ]
}